{
 "cells": [
  {
   "cell_type": "code",
   "execution_count": 1,
   "metadata": {
    "collapsed": true
   },
   "outputs": [],
   "source": [
    "import smopy\n",
    "import folium\n",
    "import matplotlib.pyplot as plt\n",
    "%matplotlib inline\n",
    "import matplotlib.patches as patches\n",
    "import pandas as pd"
   ]
  },
  {
   "cell_type": "code",
   "execution_count": 2,
   "metadata": {
    "collapsed": true
   },
   "outputs": [],
   "source": [
    "#IPython.OutputArea.auto_scroll_threshold = 9999;"
   ]
  },
  {
   "cell_type": "code",
   "execution_count": 12,
   "metadata": {
    "collapsed": false
   },
   "outputs": [
    {
     "data": {
      "application/javascript": [
       "IPython.OutputArea.auto_scroll_threshold = 9999;"
      ],
      "text/plain": [
       "<IPython.core.display.Javascript object>"
      ]
     },
     "metadata": {},
     "output_type": "display_data"
    }
   ],
   "source": [
    "%%javascript\n",
    "IPython.OutputArea.auto_scroll_threshold = 9999;"
   ]
  },
  {
   "cell_type": "markdown",
   "metadata": {},
   "source": [
    "- New York,NY\n",
    "- Los Angeles, California\n",
    "- Nashville, TN\n",
    "- Detroit, MI\n",
    "- Baltimore, MD\n",
    "- Seattle, WA\n",
    "\n",
    "## Pilot sites:\n",
    "\n",
    "- Redlands Co., CA\n",
    "- Richland Co., SC.\n",
    "\n",
    "## Prosecution sites:\n",
    "\n",
    "- Santa Clara Co., CA\n",
    "- Winnebago, WI\n",
    "- Baton Rouge (East Baton Rouge Parish), LA\n",
    "- Bernadillo Co., NM\n",
    "- Duval Co., FL\n",
    "- Thurston Co., WA\n",
    "- Rockland Co., NY"
   ]
  },
  {
   "cell_type": "markdown",
   "metadata": {},
   "source": [
    "# 1. Define matching populations for increasing sample size"
   ]
  },
  {
   "cell_type": "code",
   "execution_count": 4,
   "metadata": {
    "collapsed": false
   },
   "outputs": [
    {
     "name": "stderr",
     "output_type": "stream",
     "text": [
      "/Users/sarangof/anaconda/lib/python2.7/site-packages/ipykernel/__main__.py:3: FutureWarning: Method `add_children` is deprecated. Please use `add_child` instead.\n",
      "  app.launch_new_instance()\n"
     ]
    }
   ],
   "source": [
    "map_object = folium.Map(location=[65, -18.6], zoom_start=6, tiles=\"Stamen toner\")\n",
    "marker = folium.features.Marker([64.127573, -21.903975], popup=\"Icelandic Meteorology Office\")\n",
    "map_object.add_children(marker)\n",
    "folium.Map.save(map_object, \"index.html\")"
   ]
  },
  {
   "cell_type": "markdown",
   "metadata": {},
   "source": [
    "# 2. Define geographies and produce, visualize and save corresponding maps"
   ]
  },
  {
   "cell_type": "code",
   "execution_count": 5,
   "metadata": {
    "collapsed": false
   },
   "outputs": [],
   "source": [
    "# New York\n",
    "# Coordinates (upper left and lower right) = [(34.260967, -81.389102),(33.751430, -80.568427)]\n",
    "# sample = [-117.257080, 33.966542, -117.036929, 34.108485] \n",
    "juris_dict = {\n",
    "    'New York':[-74.257118, 40.911309, -73.700254, 40.485452], \n",
    "    'Los Angeles':[-118.694684, 34.350370, -117.858083, 33.558664],\n",
    "    'Nashville':[-87.045726, 36.388082, -86.518172, 35.963951],\n",
    "    'Detroit':[-83.400165, 42.570363, -82.873412, 42.222532],\n",
    "    'Baltimore':[-76.770649, 39.414438, -76.487698, 39.190476],\n",
    "    'Seattle':[-122.445623, 47.737144, -122.226861, 47.491494],\n",
    "    'Redlands, CA':[-117.257080, 33.966542,-117.036929,34.108485],\n",
    "    'Richland, SC':[-81.389102, 34.260967, -80.568427, 33.751430],\n",
    "    'Santa Clara, CA':[-122.027937, 37.424878, -121.922101, 37.313640],\n",
    "    'Winnebago, WI':[-88.901814, 44.255881, -88.397991, 43.880343],\n",
    "    'Baton Rouge, LA':[-91.320497, 30.734743, -90.829456, 30.291573],\n",
    "    'Duval, FL':[-82.076054, 30.621692, -81.324093, 30.090064],\n",
    "    'Thurston, WA':[-123.234222, 47.189895, -122.148060, 46.762798],\n",
    "    'Rockland, NY':[-74.269744, 41.326738, -73.892241, 40.995225]\n",
    "}"
   ]
  },
  {
   "cell_type": "code",
   "execution_count": 6,
   "metadata": {
    "collapsed": false
   },
   "outputs": [
    {
     "name": "stdout",
     "output_type": "stream",
     "text": [
      "Rockland, NY\n",
      "Baton Rouge, LA\n",
      "Winnebago, WI\n",
      "Thurston, WA\n",
      "Baltimore\n",
      "Detroit\n",
      "Redlands, CA\n",
      "Nashville\n",
      "Santa Clara, CA\n",
      "New York\n",
      "Duval, FL\n",
      "Los Angeles\n",
      "Seattle\n",
      "Richland, SC\n"
     ]
    }
   ],
   "source": [
    "for keys,vals in juris_dict.iteritems():\n",
    "    print keys"
   ]
  },
  {
   "cell_type": "code",
   "execution_count": 7,
   "metadata": {
    "collapsed": true
   },
   "outputs": [],
   "source": [
    "%load_ext folium_magic"
   ]
  },
  {
   "cell_type": "code",
   "execution_count": 16,
   "metadata": {
    "collapsed": false
   },
   "outputs": [],
   "source": [
    "def produce_map(site_name, coord_list):\n",
    "    #map = smopy.Map((40.485452, -74.257118*1.002, 40.911309, -73.700254*1.002))\n",
    "    #map = smopy.Map((coord_list[3], coord_list[0]*1.002, coord_list[1], coord_list[2]*1.002))\n",
    "    map = smopy.Map((coord_list[3], coord_list[0], coord_list[1], coord_list[2]))\n",
    "    #map.show_ipython()\n",
    "    #smopy.TILE_SERVER = \"https://tiles.wmflabs.org/bw-mapnik/{z}/{x}/{y}.png\"  \n",
    "    x, y = map.to_pixels(pd.Series([coord_list[1], coord_list[3]]), pd.Series([coord_list[0], coord_list[2]]))\n",
    "    ax = map.show_mpl(figsize=(40,40));\n",
    "    rect = patches.Rectangle((x[0], y[0]), x[1]-x[0], y[1]-y[0], linewidth=10, edgecolor='black', facecolor='none')\n",
    "    ax.add_patch(rect)\n",
    "    plt.savefig('./images/'+site_name+'.png')"
   ]
  },
  {
   "cell_type": "code",
   "execution_count": null,
   "metadata": {
    "collapsed": false
   },
   "outputs": [
    {
     "name": "stdout",
     "output_type": "stream",
     "text": [
      "Lowered zoom level to keep map size reasonable. (z = 11)\n",
      "Lowered zoom level to keep map size reasonable. (z = 10)\n",
      "Lowered zoom level to keep map size reasonable. (z = 10)\n",
      "Lowered zoom level to keep map size reasonable. (z = 10)\n",
      "Lowered zoom level to keep map size reasonable. (z = 11)\n",
      "Lowered zoom level to keep map size reasonable. (z = 10)\n",
      "Lowered zoom level to keep map size reasonable. (z = 12)\n",
      "Lowered zoom level to keep map size reasonable. (z = 10)\n",
      "Lowered zoom level to keep map size reasonable. (z = 13)\n",
      "Lowered zoom level to keep map size reasonable. (z = 10)\n",
      "Lowered zoom level to keep map size reasonable. (z = 10)\n"
     ]
    }
   ],
   "source": [
    "for site, coords in juris_dict.iteritems():\n",
    "    produce_map(site, coords)"
   ]
  },
  {
   "cell_type": "code",
   "execution_count": null,
   "metadata": {
    "collapsed": false
   },
   "outputs": [],
   "source": []
  },
  {
   "cell_type": "code",
   "execution_count": null,
   "metadata": {
    "collapsed": false
   },
   "outputs": [],
   "source": []
  },
  {
   "cell_type": "code",
   "execution_count": null,
   "metadata": {
    "collapsed": false
   },
   "outputs": [],
   "source": []
  },
  {
   "cell_type": "code",
   "execution_count": null,
   "metadata": {
    "collapsed": false
   },
   "outputs": [],
   "source": []
  }
 ],
 "metadata": {
  "kernelspec": {
   "display_name": "Python 2",
   "language": "python",
   "name": "python2"
  },
  "language_info": {
   "codemirror_mode": {
    "name": "ipython",
    "version": 2
   },
   "file_extension": ".py",
   "mimetype": "text/x-python",
   "name": "python",
   "nbconvert_exporter": "python",
   "pygments_lexer": "ipython2",
   "version": "2.7.13"
  }
 },
 "nbformat": 4,
 "nbformat_minor": 2
}
